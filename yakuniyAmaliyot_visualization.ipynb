{
  "nbformat": 4,
  "nbformat_minor": 0,
  "metadata": {
    "colab": {
      "name": "Copy of yakuniyAmaliyot_visualization.ipynb",
      "provenance": [],
      "collapsed_sections": [],
      "include_colab_link": true
    },
    "kernelspec": {
      "name": "python3",
      "display_name": "Python 3"
    },
    "language_info": {
      "name": "python"
    }
  },
  "cells": [
    {
      "cell_type": "markdown",
      "metadata": {
        "id": "view-in-github",
        "colab_type": "text"
      },
      "source": [
        "<a href=\"https://colab.research.google.com/github/Shahzodgithub/virtualization_final_task/blob/main/yakuniyAmaliyot_visualization.ipynb\" target=\"_parent\"><img src=\"https://colab.research.google.com/assets/colab-badge.svg\" alt=\"Open In Colab\"/></a>"
      ]
    },
    {
      "cell_type": "markdown",
      "source": [
        "![Imgur](https://i.imgur.com/5pXzCIu.png)\n",
        "\n",
        "# Data Science va Sun'iy Intellekt Praktikum\n",
        "\n",
        "## 4-MODUL. VIZUALIZASIYA\n",
        "\n",
        "## Yakuniy amaliyot. `matplotlib`\n"
      ],
      "metadata": {
        "id": "NH59l9byvNyt"
      }
    },
    {
      "cell_type": "code",
      "execution_count": null,
      "metadata": {
        "id": "kr8VZeHIrvu_"
      },
      "outputs": [],
      "source": [
        "import numpy as np\n",
        "import pandas as pd\n",
        "\n",
        "import matplotlib.pyplot as plt\n",
        "%matplotlib inline\n",
        "import seaborn as sns\n",
        "sns.set()"
      ]
    },
    {
      "cell_type": "markdown",
      "source": [
        "XYZ kompaniyasi taxminan 4000 ishchi xodim ishlaydi va afsuski har yili xodimlarning 15% ga yaqini o'z xohishlari bilan yoki kompaniya tomonidan ishdan bo'shatiladi va yana yangi xodim ishga olinadi. Bu esa kompaniya uchun bir qancha noqulayliklar tug'diradi (loyihalar sekinlashishi, ishga qabul qilish jarayoni uzoqligi, yangi ishchi ko'nikishi uchun treninglar va ma'lum vaqt kerakligi). Ishchilarni saqlab qolish uchun kompaniya HR tahlil qilib ko'rishga qaror qildi va quyidagi datasetdan foydalanib, qanday faktorlar ishchilarni bo'shashiga sabab bo'lishini tahlil qilishgan.\n",
        "Dataset ustun nomlari:\n",
        "\n",
        "1.   Age - yoshi\n",
        "2.   Attrition - ishdan bo'shaganmi\n",
        "3.   BusinessTravel - komandirovka\n",
        "4.   DistanceFromHome - uydan ishgacha bo'lgan masofa (km)\n",
        "5.   Education - Ta'lim\n",
        "6.   Gender - jinsi\n",
        "7.   MaritalStatus - oilaviy holati\n",
        "\n",
        "\n",
        "<a href=\"https://ibb.co/sR5zPJV\"><img src=\"https://i.ibb.co/g9vh7FR/hr.png\" alt=\"hr\" border=\"0\" style=\"width:100%\"></a>\n"
      ],
      "metadata": {
        "id": "zFN8W2-LujYc"
      }
    },
    {
      "cell_type": "code",
      "source": [
        "#@title QUYIDAGI KODGA TEGMANG!!! \n",
        "import ssl\n",
        "ssl._create_default_https_context = ssl._create_unverified_context"
      ],
      "metadata": {
        "id": "kROQyqEcwjDQ",
        "cellView": "form"
      },
      "execution_count": null,
      "outputs": []
    },
    {
      "cell_type": "markdown",
      "source": [
        "## 1-VAZIFA: Quyidagi CSV fayl linkidan foydalaning \n",
        "### - va ma'lumotlarni \"data\" nomli o'zgaruvchiga biriktiring \n",
        "### - hamda 'EmployeeCount','EmployeeID','StandardHours' ustunlari ortiqchaligi sababli o'chirib tashlang\n",
        "\n",
        "### LINK: https://raw.githubusercontent.com/mukhammad-irmatov/health_dataset/main/hr_dataset.csv"
      ],
      "metadata": {
        "id": "uIzfpkaK3bQW"
      }
    },
    {
      "cell_type": "code",
      "source": [
        "# JAVOBNI SHUYERGA YOZING\n",
        "data = pd.read_csv(\"https://raw.githubusercontent.com/mukhammad-irmatov/health_dataset/main/hr_dataset.csv\")\n",
        "data2 = data.drop(['EmployeeCount','EmployeeID','StandardHours' ], axis=1)\n",
        "data2.head()"
      ],
      "metadata": {
        "id": "JPzzo4-Ut1tu",
        "outputId": "d3af618e-4f46-4d74-b3ff-39ca9545ca10",
        "colab": {
          "base_uri": "https://localhost:8080/",
          "height": 357
        }
      },
      "execution_count": null,
      "outputs": [
        {
          "output_type": "execute_result",
          "data": {
            "text/html": [
              "\n",
              "  <div id=\"df-2473705e-5c14-42aa-ac18-4c9b18b2d666\">\n",
              "    <div class=\"colab-df-container\">\n",
              "      <div>\n",
              "<style scoped>\n",
              "    .dataframe tbody tr th:only-of-type {\n",
              "        vertical-align: middle;\n",
              "    }\n",
              "\n",
              "    .dataframe tbody tr th {\n",
              "        vertical-align: top;\n",
              "    }\n",
              "\n",
              "    .dataframe thead th {\n",
              "        text-align: right;\n",
              "    }\n",
              "</style>\n",
              "<table border=\"1\" class=\"dataframe\">\n",
              "  <thead>\n",
              "    <tr style=\"text-align: right;\">\n",
              "      <th></th>\n",
              "      <th>Age</th>\n",
              "      <th>Attrition</th>\n",
              "      <th>BusinessTravel</th>\n",
              "      <th>Department</th>\n",
              "      <th>DistanceFromHome</th>\n",
              "      <th>Education</th>\n",
              "      <th>EducationField</th>\n",
              "      <th>Gender</th>\n",
              "      <th>JobLevel</th>\n",
              "      <th>JobRole</th>\n",
              "      <th>MaritalStatus</th>\n",
              "      <th>MonthlyIncome</th>\n",
              "      <th>NumCompaniesWorked</th>\n",
              "      <th>Over18</th>\n",
              "      <th>PercentSalaryHike</th>\n",
              "      <th>StockOptionLevel</th>\n",
              "      <th>TotalWorkingYears</th>\n",
              "      <th>TrainingTimesLastYear</th>\n",
              "      <th>YearsAtCompany</th>\n",
              "      <th>YearsSinceLastPromotion</th>\n",
              "      <th>YearsWithCurrManager</th>\n",
              "    </tr>\n",
              "  </thead>\n",
              "  <tbody>\n",
              "    <tr>\n",
              "      <th>0</th>\n",
              "      <td>51</td>\n",
              "      <td>No</td>\n",
              "      <td>Travel_Rarely</td>\n",
              "      <td>Sales</td>\n",
              "      <td>6</td>\n",
              "      <td>2</td>\n",
              "      <td>Life Sciences</td>\n",
              "      <td>Female</td>\n",
              "      <td>1</td>\n",
              "      <td>Healthcare Representative</td>\n",
              "      <td>Married</td>\n",
              "      <td>131160</td>\n",
              "      <td>1.0</td>\n",
              "      <td>Y</td>\n",
              "      <td>11</td>\n",
              "      <td>0</td>\n",
              "      <td>1.0</td>\n",
              "      <td>6</td>\n",
              "      <td>1</td>\n",
              "      <td>0</td>\n",
              "      <td>0</td>\n",
              "    </tr>\n",
              "    <tr>\n",
              "      <th>1</th>\n",
              "      <td>31</td>\n",
              "      <td>Yes</td>\n",
              "      <td>Travel_Frequently</td>\n",
              "      <td>Research &amp; Development</td>\n",
              "      <td>10</td>\n",
              "      <td>1</td>\n",
              "      <td>Life Sciences</td>\n",
              "      <td>Female</td>\n",
              "      <td>1</td>\n",
              "      <td>Research Scientist</td>\n",
              "      <td>Single</td>\n",
              "      <td>41890</td>\n",
              "      <td>0.0</td>\n",
              "      <td>Y</td>\n",
              "      <td>23</td>\n",
              "      <td>1</td>\n",
              "      <td>6.0</td>\n",
              "      <td>3</td>\n",
              "      <td>5</td>\n",
              "      <td>1</td>\n",
              "      <td>4</td>\n",
              "    </tr>\n",
              "    <tr>\n",
              "      <th>2</th>\n",
              "      <td>32</td>\n",
              "      <td>No</td>\n",
              "      <td>Travel_Frequently</td>\n",
              "      <td>Research &amp; Development</td>\n",
              "      <td>17</td>\n",
              "      <td>4</td>\n",
              "      <td>Other</td>\n",
              "      <td>Male</td>\n",
              "      <td>4</td>\n",
              "      <td>Sales Executive</td>\n",
              "      <td>Married</td>\n",
              "      <td>193280</td>\n",
              "      <td>1.0</td>\n",
              "      <td>Y</td>\n",
              "      <td>15</td>\n",
              "      <td>3</td>\n",
              "      <td>5.0</td>\n",
              "      <td>2</td>\n",
              "      <td>5</td>\n",
              "      <td>0</td>\n",
              "      <td>3</td>\n",
              "    </tr>\n",
              "    <tr>\n",
              "      <th>3</th>\n",
              "      <td>38</td>\n",
              "      <td>No</td>\n",
              "      <td>Non-Travel</td>\n",
              "      <td>Research &amp; Development</td>\n",
              "      <td>2</td>\n",
              "      <td>5</td>\n",
              "      <td>Life Sciences</td>\n",
              "      <td>Male</td>\n",
              "      <td>3</td>\n",
              "      <td>Human Resources</td>\n",
              "      <td>Married</td>\n",
              "      <td>83210</td>\n",
              "      <td>3.0</td>\n",
              "      <td>Y</td>\n",
              "      <td>11</td>\n",
              "      <td>3</td>\n",
              "      <td>13.0</td>\n",
              "      <td>5</td>\n",
              "      <td>8</td>\n",
              "      <td>7</td>\n",
              "      <td>5</td>\n",
              "    </tr>\n",
              "    <tr>\n",
              "      <th>4</th>\n",
              "      <td>32</td>\n",
              "      <td>No</td>\n",
              "      <td>Travel_Rarely</td>\n",
              "      <td>Research &amp; Development</td>\n",
              "      <td>10</td>\n",
              "      <td>1</td>\n",
              "      <td>Medical</td>\n",
              "      <td>Male</td>\n",
              "      <td>1</td>\n",
              "      <td>Sales Executive</td>\n",
              "      <td>Single</td>\n",
              "      <td>23420</td>\n",
              "      <td>4.0</td>\n",
              "      <td>Y</td>\n",
              "      <td>12</td>\n",
              "      <td>2</td>\n",
              "      <td>9.0</td>\n",
              "      <td>2</td>\n",
              "      <td>6</td>\n",
              "      <td>0</td>\n",
              "      <td>4</td>\n",
              "    </tr>\n",
              "  </tbody>\n",
              "</table>\n",
              "</div>\n",
              "      <button class=\"colab-df-convert\" onclick=\"convertToInteractive('df-2473705e-5c14-42aa-ac18-4c9b18b2d666')\"\n",
              "              title=\"Convert this dataframe to an interactive table.\"\n",
              "              style=\"display:none;\">\n",
              "        \n",
              "  <svg xmlns=\"http://www.w3.org/2000/svg\" height=\"24px\"viewBox=\"0 0 24 24\"\n",
              "       width=\"24px\">\n",
              "    <path d=\"M0 0h24v24H0V0z\" fill=\"none\"/>\n",
              "    <path d=\"M18.56 5.44l.94 2.06.94-2.06 2.06-.94-2.06-.94-.94-2.06-.94 2.06-2.06.94zm-11 1L8.5 8.5l.94-2.06 2.06-.94-2.06-.94L8.5 2.5l-.94 2.06-2.06.94zm10 10l.94 2.06.94-2.06 2.06-.94-2.06-.94-.94-2.06-.94 2.06-2.06.94z\"/><path d=\"M17.41 7.96l-1.37-1.37c-.4-.4-.92-.59-1.43-.59-.52 0-1.04.2-1.43.59L10.3 9.45l-7.72 7.72c-.78.78-.78 2.05 0 2.83L4 21.41c.39.39.9.59 1.41.59.51 0 1.02-.2 1.41-.59l7.78-7.78 2.81-2.81c.8-.78.8-2.07 0-2.86zM5.41 20L4 18.59l7.72-7.72 1.47 1.35L5.41 20z\"/>\n",
              "  </svg>\n",
              "      </button>\n",
              "      \n",
              "  <style>\n",
              "    .colab-df-container {\n",
              "      display:flex;\n",
              "      flex-wrap:wrap;\n",
              "      gap: 12px;\n",
              "    }\n",
              "\n",
              "    .colab-df-convert {\n",
              "      background-color: #E8F0FE;\n",
              "      border: none;\n",
              "      border-radius: 50%;\n",
              "      cursor: pointer;\n",
              "      display: none;\n",
              "      fill: #1967D2;\n",
              "      height: 32px;\n",
              "      padding: 0 0 0 0;\n",
              "      width: 32px;\n",
              "    }\n",
              "\n",
              "    .colab-df-convert:hover {\n",
              "      background-color: #E2EBFA;\n",
              "      box-shadow: 0px 1px 2px rgba(60, 64, 67, 0.3), 0px 1px 3px 1px rgba(60, 64, 67, 0.15);\n",
              "      fill: #174EA6;\n",
              "    }\n",
              "\n",
              "    [theme=dark] .colab-df-convert {\n",
              "      background-color: #3B4455;\n",
              "      fill: #D2E3FC;\n",
              "    }\n",
              "\n",
              "    [theme=dark] .colab-df-convert:hover {\n",
              "      background-color: #434B5C;\n",
              "      box-shadow: 0px 1px 3px 1px rgba(0, 0, 0, 0.15);\n",
              "      filter: drop-shadow(0px 1px 2px rgba(0, 0, 0, 0.3));\n",
              "      fill: #FFFFFF;\n",
              "    }\n",
              "  </style>\n",
              "\n",
              "      <script>\n",
              "        const buttonEl =\n",
              "          document.querySelector('#df-2473705e-5c14-42aa-ac18-4c9b18b2d666 button.colab-df-convert');\n",
              "        buttonEl.style.display =\n",
              "          google.colab.kernel.accessAllowed ? 'block' : 'none';\n",
              "\n",
              "        async function convertToInteractive(key) {\n",
              "          const element = document.querySelector('#df-2473705e-5c14-42aa-ac18-4c9b18b2d666');\n",
              "          const dataTable =\n",
              "            await google.colab.kernel.invokeFunction('convertToInteractive',\n",
              "                                                     [key], {});\n",
              "          if (!dataTable) return;\n",
              "\n",
              "          const docLinkHtml = 'Like what you see? Visit the ' +\n",
              "            '<a target=\"_blank\" href=https://colab.research.google.com/notebooks/data_table.ipynb>data table notebook</a>'\n",
              "            + ' to learn more about interactive tables.';\n",
              "          element.innerHTML = '';\n",
              "          dataTable['output_type'] = 'display_data';\n",
              "          await google.colab.output.renderOutput(dataTable, element);\n",
              "          const docLink = document.createElement('div');\n",
              "          docLink.innerHTML = docLinkHtml;\n",
              "          element.appendChild(docLink);\n",
              "        }\n",
              "      </script>\n",
              "    </div>\n",
              "  </div>\n",
              "  "
            ],
            "text/plain": [
              "   Age Attrition  ... YearsSinceLastPromotion YearsWithCurrManager\n",
              "0   51        No  ...                       0                    0\n",
              "1   31       Yes  ...                       1                    4\n",
              "2   32        No  ...                       0                    3\n",
              "3   38        No  ...                       7                    5\n",
              "4   32        No  ...                       0                    4\n",
              "\n",
              "[5 rows x 21 columns]"
            ]
          },
          "metadata": {},
          "execution_count": 30
        }
      ]
    },
    {
      "cell_type": "markdown",
      "source": [
        "## 2-VAZIFA: Qaysi ustunlarda nechtadan null qiymatlar borligini aniqlang\n",
        "### - o'sha ustunlardagi kataklarni 0 qiymati bilan to'ldiring.\n"
      ],
      "metadata": {
        "id": "rOEiPT855hfG"
      }
    },
    {
      "cell_type": "code",
      "source": [
        "# JAVOBNI SHUYERGA YOZING\n",
        "data2.fillna(0,inplace=True)\n",
        "nan_counts = data2.isnull().sum()\n",
        "nan_counts"
      ],
      "metadata": {
        "id": "iyDLfCeK6Axw",
        "outputId": "89f581f6-5cef-4fd0-fc21-329e5129f09a",
        "colab": {
          "base_uri": "https://localhost:8080/"
        }
      },
      "execution_count": null,
      "outputs": [
        {
          "output_type": "execute_result",
          "data": {
            "text/plain": [
              "Age                        0\n",
              "Attrition                  0\n",
              "BusinessTravel             0\n",
              "Department                 0\n",
              "DistanceFromHome           0\n",
              "Education                  0\n",
              "EducationField             0\n",
              "Gender                     0\n",
              "JobLevel                   0\n",
              "JobRole                    0\n",
              "MaritalStatus              0\n",
              "MonthlyIncome              0\n",
              "NumCompaniesWorked         0\n",
              "Over18                     0\n",
              "PercentSalaryHike          0\n",
              "StockOptionLevel           0\n",
              "TotalWorkingYears          0\n",
              "TrainingTimesLastYear      0\n",
              "YearsAtCompany             0\n",
              "YearsSinceLastPromotion    0\n",
              "YearsWithCurrManager       0\n",
              "dtype: int64"
            ]
          },
          "metadata": {},
          "execution_count": 12
        }
      ]
    },
    {
      "cell_type": "markdown",
      "source": [
        "## 3-VAZIFA: Barcha ustunlardagi o'zaro korrelatsiyasini aniqlang\n",
        "### - hamda heatmap orqali 16:10 o'lchamda ekranga chiqaring \n"
      ],
      "metadata": {
        "id": "pnbIUjWQ6crL"
      }
    },
    {
      "cell_type": "code",
      "source": [
        "# JAVOBNI SHUYERGA YOZING\n",
        "corr_data = data2.corr()\n",
        "plt.figure(figsize=(16,10))\n",
        "sns.heatmap(data=corr_data)"
      ],
      "metadata": {
        "id": "twSCy4Re6djN",
        "outputId": "53375960-d07f-4f11-bb73-32c4a89c4378",
        "colab": {
          "base_uri": "https://localhost:8080/",
          "height": 744
        }
      },
      "execution_count": null,
      "outputs": [
        {
          "output_type": "execute_result",
          "data": {
            "text/plain": [
              "<matplotlib.axes._subplots.AxesSubplot at 0x7fa4f02e2050>"
            ]
          },
          "metadata": {},
          "execution_count": 28
        },
        {
          "output_type": "display_data",
          "data": {
            "image/png": "[encoded data removed]",
            "text/plain": [
              "<Figure size 1152x720 with 2 Axes>"
            ]
          },
          "metadata": {
            "needs_background": "light"
          }
        }
      ]
    },
    {
      "cell_type": "markdown",
      "source": [
        "## 4-VAZIFA: Dataset uzunligini toping, ya'ni umumiy nechta qator(row) dan tashkil topgan\n",
        "#### - Attrition(ishdan bo'shaganmi) ustunidagi \"Yes\" deb javob berilgan qatorlar soni\n",
        "#### - Attrition(ishdan bo'shaganmi) ustunidagi \"No\" deb javob berilgan qatorlar soni\n",
        "#### - Attrition(ishdan bo'shaganmi) ustunidagi \"Yes\" deb javob berilgan qatorlar soni umumiy datasetning necha fozini tashkil etadi\n",
        "#### - Attrition(ishdan bo'shaganmi) ustunidagi \"No\" deb javob berilgan qatorlar soni umumiy datasetning necha fozini tashkil etadi\n",
        "\n",
        "**Hint:** har birini ekranga chiqarish uchun print dan foydalaning\n",
        "\n",
        "\n",
        "<a href=\"https://imgbb.com/\"><img src=\"https://i.ibb.co/28VjRyB/img.png\" alt=\"img\" border=\"0\"></a>"
      ],
      "metadata": {
        "id": "RYu99y9T8XrY"
      }
    },
    {
      "cell_type": "code",
      "source": [
        "# JAVOBNI SHUYERGA YOZING\n",
        "print(data2[data2['Attrition']=='Yes'].size)\n",
        "print(data2[data2['Attrition']=='No'].size)\n",
        "print(f\"Yes: {(data2[data2['Attrition']=='Yes'].size) / (data2.size) *100} % ni tashkil etadi\")\n",
        "print(f\"No: {(data2[data2['Attrition']=='No'].size) / (data2.size) *100} % ni tashkil etadi\")"
      ],
      "metadata": {
        "id": "7sHkGw4u8Y6n",
        "outputId": "6ccfb73f-063c-4a7e-a05d-1aee9a0ff3a9",
        "colab": {
          "base_uri": "https://localhost:8080/"
        }
      },
      "execution_count": null,
      "outputs": [
        {
          "output_type": "stream",
          "name": "stdout",
          "text": [
            "14931\n",
            "77679\n",
            "Yes: 16.122448979591837 % ni tashkil etadi\n",
            "No: 83.87755102040816 % ni tashkil etadi\n"
          ]
        }
      ]
    },
    {
      "cell_type": "markdown",
      "source": [
        "## 5-VAZIFA: Countplot() orqali Attrition ustunidagi ma'lumotlarni \"Yes\" \"No\" soniga ko'ra, ustunli grafik shaklida tasvirlang\n",
        "\n",
        "<a href=\"https://imgbb.com/\"><img src=\"https://i.ibb.co/Px9Bn6J/plt.png\" alt=\"plt\" border=\"0\"></a>"
      ],
      "metadata": {
        "id": "wcqV7Cfm9ssp"
      }
    },
    {
      "cell_type": "code",
      "source": [
        "# JAVOBNI SHUYERGA YOZING\n",
        "sns.countplot(x = data2['Attrition'])\n",
        "plt.show()"
      ],
      "metadata": {
        "id": "dTS-HrvM9tdg",
        "outputId": "07a608be-b1e7-48a6-fd50-ce8e6e7973bc",
        "colab": {
          "base_uri": "https://localhost:8080/",
          "height": 285
        }
      },
      "execution_count": null,
      "outputs": [
        {
          "output_type": "display_data",
          "data": {
            "image/png": "[encoded data removed]",
            "text/plain": [
              "<Figure size 432x288 with 1 Axes>"
            ]
          },
          "metadata": {
            "needs_background": "light"
          }
        }
      ]
    },
    {
      "cell_type": "markdown",
      "source": [
        "## 6-VAZIFA: Countplot() orqali Attrition ustunidagi ma'lumotlarni \"Yes\" \"No\" soniga ko'ra hamda gender ustuniga bo'lingan holda ustunli grafikda tasvirlang.\n",
        "\n",
        "<a href=\"https://imgbb.com/\"><img src=\"https://i.ibb.co/R7BC8z2/bygender.png\" alt=\"bygender\" border=\"0\"></a>"
      ],
      "metadata": {
        "id": "U8C6d9GuIJus"
      }
    },
    {
      "cell_type": "code",
      "source": [
        "# JAVOBNI SHUYERGA YOZING\n",
        "sns.countplot(data=data2,x='Attrition', hue='Gender')\n",
        "plt.show()"
      ],
      "metadata": {
        "id": "IHuArXLLILEB",
        "outputId": "f20e0484-bbbc-44a8-b673-2348db2c17ce",
        "colab": {
          "base_uri": "https://localhost:8080/",
          "height": 285
        }
      },
      "execution_count": null,
      "outputs": [
        {
          "output_type": "display_data",
          "data": {
            "image/png": "[encoded data removed]",
            "text/plain": [
              "<Figure size 432x288 with 1 Axes>"
            ]
          },
          "metadata": {
            "needs_background": "light"
          }
        }
      ]
    },
    {
      "cell_type": "markdown",
      "source": [
        "## 7-VAZIFA: Countplot() orqali Attrition ustunidagi ma'lumotlarni \"Yes\" \"No\" soniga ko'ra hamda jobLevel ustuniga bo'lingan holda ustunli grafikda tasvirlang.\n",
        "\n",
        "<a href=\"https://imgbb.com/\"><img src=\"https://i.ibb.co/kmzVfDK/byjoblevel.png\" alt=\"byjoblevel\" border=\"0\"></a><br /><a target='_blank' href='https://the-crosswordsolver.com/tobagos-island-neighbor-8-letters'></a><br />"
      ],
      "metadata": {
        "id": "2tAmAxOXKCa0"
      }
    },
    {
      "cell_type": "code",
      "source": [
        "# JAVOBNI SHUYERGA YOZING\n",
        "sns.countplot(data=data2,x='Attrition', hue='JobLevel')\n",
        "plt.show()"
      ],
      "metadata": {
        "id": "P0OEMc9UKvgP",
        "outputId": "1dcd4404-20a2-4c87-ec20-7b9eb3b3b9e3",
        "colab": {
          "base_uri": "https://localhost:8080/",
          "height": 285
        }
      },
      "execution_count": null,
      "outputs": [
        {
          "output_type": "display_data",
          "data": {
            "image/png": "[encoded data removed]",
            "text/plain": [
              "<Figure size 432x288 with 1 Axes>"
            ]
          },
          "metadata": {
            "needs_background": "light"
          }
        }
      ]
    },
    {
      "cell_type": "markdown",
      "source": [
        "## 8-VAZIFA: Pie chart orqali \"Attrition\" (ishdan bo'shaganmi) ustunidagi Yes va No qiymatlariga ko'ra grafikni chiqaring\n",
        "\n",
        "<a href=\"https://imgbb.com/\"><img src=\"https://i.ibb.co/LZ4cCKb/PieChart.png\" alt=\"PieChart\" border=\"0\"></a><br /><a target='_blank' href='https://the-crosswordsolver.com/netman-smith-4-letters'></a><br />"
      ],
      "metadata": {
        "id": "vKqBcTPhL3-3"
      }
    },
    {
      "cell_type": "code",
      "source": [
        "# JAVOBNI SHUYERGA YOZING\n",
        "yes_count = data2['Attrition'].value_counts()[0]\n",
        "no_count = data2['Attrition'].value_counts()[1]\n",
        "df = pd.DataFrame({'Attrition': [int(yes_count),int(no_count)]},index=['Yes', 'No'])\n",
        "pieAttrition = df.plot.pie(y='Attrition', figsize=(5, 5))\n",
        "pieAttrition\n"
      ],
      "metadata": {
        "id": "_m1tHdofL7RS",
        "outputId": "70183c7c-dbaf-4e4e-d4e7-d1f88c2f82eb",
        "colab": {
          "base_uri": "https://localhost:8080/",
          "height": 320
        }
      },
      "execution_count": null,
      "outputs": [
        {
          "output_type": "execute_result",
          "data": {
            "text/plain": [
              "<matplotlib.axes._subplots.AxesSubplot at 0x7fa4eeddab90>"
            ]
          },
          "metadata": {},
          "execution_count": 79
        },
        {
          "output_type": "display_data",
          "data": {
            "image/png": "[encoded data removed]",
            "text/plain": [
              "<Figure size 360x360 with 1 Axes>"
            ]
          },
          "metadata": {}
        }
      ]
    },
    {
      "cell_type": "markdown",
      "source": [
        "## 9-VAZIFA:  Crosstab orqali \"Attrition\" (ishdan bo'shaganmi) ustunidagi Yes va No qiymatlari hamda Department ustuniga ko'ra grafikni chiqaring\n",
        "\n",
        "<a href=\"https://imgbb.com/\"><img src=\"https://i.ibb.co/g4KgG6q/depart.png\" alt=\"depart\" border=\"0\"></a>"
      ],
      "metadata": {
        "id": "kEEl9lmJWCfi"
      }
    },
    {
      "cell_type": "code",
      "source": [
        "# JAVOBNI SHUYERGA YOZING\n",
        "sns.countplot(data=data2,x='Department', hue='Attrition')\n",
        "plt.xticks(rotation=90)\n",
        "plt.show()\n"
      ],
      "metadata": {
        "id": "7xSeffiDWDd5",
        "outputId": "1d9bee67-8b28-420c-ed2e-bc6029f8033f",
        "colab": {
          "base_uri": "https://localhost:8080/",
          "height": 416
        }
      },
      "execution_count": null,
      "outputs": [
        {
          "output_type": "display_data",
          "data": {
            "image/png": "[encoded data removed]",
            "text/plain": [
              "<Figure size 432x288 with 1 Axes>"
            ]
          },
          "metadata": {
            "needs_background": "light"
          }
        }
      ]
    },
    {
      "cell_type": "markdown",
      "source": [
        "## 10-VAZIFA:  Seaborn kutubxonasining Distribution(taqsimot) imkoniyatidan foydalanib, Attrition(ishdan bo'shaganmi) ustunini MonthlyIncome ustuniga solishtirilganligini grafigini ekranga chiqaring.\n",
        "\n",
        "\n",
        "**Hint: ** Bu orqali biz ishchining oylik maoshini uning ishdan bo'shab ketishiga bog'liq yoki bog'liq emasligini topamiz.\n",
        "\n",
        "<a href=\"https://imgbb.com/\"><img src=\"https://i.ibb.co/zQc4FVZ/displot.png\" alt=\"displot\" border=\"0\"></a><br /><a target='_blank' href='https://500pxdownload.com/'></a><br />"
      ],
      "metadata": {
        "id": "Y3vs7JJIXEgf"
      }
    },
    {
      "cell_type": "code",
      "source": [
        "# JAVOBNI SHUYERGA YOZING\n",
        "sns.displot(data=data2,x='MonthlyIncome', hue='Attrition')\n",
        "plt.xticks(rotation=90)\n",
        "plt.show()"
      ],
      "metadata": {
        "id": "xbF-fJq7XFTf",
        "outputId": "d347c023-6086-4059-b395-5a4bc697c6f0",
        "colab": {
          "base_uri": "https://localhost:8080/",
          "height": 401
        }
      },
      "execution_count": null,
      "outputs": [
        {
          "output_type": "display_data",
          "data": {
            "image/png": "[encoded data removed]",
            "text/plain": [
              "<Figure size 417.675x360 with 1 Axes>"
            ]
          },
          "metadata": {
            "needs_background": "light"
          }
        }
      ]
    },
    {
      "cell_type": "code",
      "source": [
        ""
      ],
      "metadata": {
        "id": "38rvCQ4-PMxp"
      },
      "execution_count": null,
      "outputs": []
    }
  ]
}